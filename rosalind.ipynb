{
  "nbformat": 4,
  "nbformat_minor": 0,
  "metadata": {
    "colab": {
      "name": "rosalind.ipynb",
      "provenance": [],
      "collapsed_sections": [],
      "include_colab_link": true
    },
    "kernelspec": {
      "name": "python3",
      "display_name": "Python 3"
    }
  },
  "cells": [
    {
      "cell_type": "markdown",
      "metadata": {
        "id": "view-in-github",
        "colab_type": "text"
      },
      "source": [
        "<a href=\"https://colab.research.google.com/github/geocarvalho/rosalind/blob/master/rosalind.ipynb\" target=\"_parent\"><img src=\"https://colab.research.google.com/assets/colab-badge.svg\" alt=\"Open In Colab\"/></a>"
      ]
    },
    {
      "cell_type": "markdown",
      "metadata": {
        "id": "1lCzkpFAA3dr",
        "colab_type": "text"
      },
      "source": [
        "# 1. Counting DNA nucleotides\n",
        "\n",
        "* [Problem](http://rosalind.info/problems/dna/)\n",
        "* [First script](https://github.com/geocarvalho/rosalind/blob/master/counting_dna_nucleotides.py)\n",
        "\n",
        "Sample Dataset\n",
        "> AGCTTTTCATTCTGACTGCAACGGGCAATATGTCTCTGTGTGGATTAAAAAAAGAGTGTCTGATAGCAGC\n",
        "\n",
        "Sample Output\n",
        "> 20 12 17 21"
      ]
    },
    {
      "cell_type": "code",
      "metadata": {
        "id": "ygpYDASyAetU",
        "colab_type": "code",
        "colab": {}
      },
      "source": [
        "def countNucFreq(seq):\n",
        "  tmpFreqDict = {\"A\":0, \"C\":0, \"G\":0, \"T\":0}\n",
        "  for nuc in seq:\n",
        "    tmpFreqDict[nuc] += 1\n",
        "  lst_num = [str(val)for val in list(tmpFreqDict.values())]\n",
        "  output = ' '.join(lst_num)\n",
        "  return output"
      ],
      "execution_count": 0,
      "outputs": []
    },
    {
      "cell_type": "code",
      "metadata": {
        "id": "ggYsWEjNIOst",
        "colab_type": "code",
        "colab": {
          "base_uri": "https://localhost:8080/",
          "height": 34
        },
        "outputId": "e3201690-e5be-4a5e-fd7e-0cee6a16ab9c"
      },
      "source": [
        "DNAstr = \"AGCTTTTCATTCTGACTGCAACGGGCAATATGTCTCTGTGTGGATTAAAAAAAGAGTGTCTGATAGCAGC\"\n",
        "countNucFreq(DNAstr)"
      ],
      "execution_count": 31,
      "outputs": [
        {
          "output_type": "execute_result",
          "data": {
            "text/plain": [
              "'20 12 17 21'"
            ]
          },
          "metadata": {
            "tags": []
          },
          "execution_count": 31
        }
      ]
    },
    {
      "cell_type": "code",
      "metadata": {
        "id": "AtAoTL4hIdUT",
        "colab_type": "code",
        "colab": {
          "base_uri": "https://localhost:8080/",
          "height": 34
        },
        "outputId": "62fcb021-962d-4b2f-d35e-d950007443cf"
      },
      "source": [
        "given_example = \"TAGACGATTCCTTCATTATGTGCTATAAGCTAAACCGTGTCCACGGATGGACAGGGCTCTGTTTTTGCTTCTTTGCAATACGCTTCGAGTGGTTGGCTCAATCCTATCTAATCGTGGACTGAATTTGTGAGCGGGTTTAAGCGCTCTTCGTCGGGCGTCCGGTACGGAGAGGGAACTCTAACCTGCCCTAAGGCGAAAAATACTGCATTAGCTATCCACAAGGATCGGTGGCGGCCCCTGAGGTCGCCGTCAGCCGCTCTCACATTCAGAGAATGCGGCCCGTACATTCAATAAGCGCTGTCACTGTAATCGCGGGCGCGCCCTAGGTAGCCACTTGGGCCTTTAATTACGAAGTCAAGCCTAACCGATGGCGACAGGCTTGGGGGGGGCATATTCACGCAGAACCCCAACATGAGTTGAACCCGACGGAGACACAAGCAGGAGCAGCCCATGGGTCGGTTGATTATTAGGTACCTTAATGTGAGGGGTTTATAACAAGGAATTAGAAGAATACTGTTCAAAGCCATCGTGATGGGTAATCCTCGGTCACTGTTACCTCTTACTTTGTGATTTTGGATTCTCATAGATGGATGCTACACTTATAAGTGCTTATTTGGAGCGCCACTAACATAAGACCGATGCACAAGTGTACGAGCGCGACGCGCGGATAATATTGTCCCGCGGAATCATGAAACATCGGCGTAGCCCTAGGGCGTCTGCTCTGCAAAGCTACACTACAGTCAGCGTTCCCAAACTGGGGGGTCTACGAATTATATAGGAGGAAACCTGGACTGGTCAGTTTAAAGTGTAGACGGTGGGATTTCGGGCCCAAACGCTAGTAGAGTTACTAGAAATCCCCTTCAGTCCCACACGGGAGACAAACAGGTACAGTCGGTAACGGAATAG\"\n",
        "countNucFreq(given_example)"
      ],
      "execution_count": 35,
      "outputs": [
        {
          "output_type": "execute_result",
          "data": {
            "text/plain": [
              "'232 213 242 219'"
            ]
          },
          "metadata": {
            "tags": []
          },
          "execution_count": 35
        }
      ]
    },
    {
      "cell_type": "code",
      "metadata": {
        "id": "hXjkfSafKuaD",
        "colab_type": "code",
        "colab": {}
      },
      "source": [
        ""
      ],
      "execution_count": 0,
      "outputs": []
    }
  ]
}