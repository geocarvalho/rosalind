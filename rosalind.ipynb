{
  "nbformat": 4,
  "nbformat_minor": 0,
  "metadata": {
    "colab": {
      "name": "rosalind.ipynb",
      "provenance": [],
      "collapsed_sections": [],
      "include_colab_link": true
    },
    "kernelspec": {
      "name": "python3",
      "display_name": "Python 3"
    }
  },
  "cells": [
    {
      "cell_type": "markdown",
      "metadata": {
        "id": "view-in-github",
        "colab_type": "text"
      },
      "source": [
        "<a href=\"https://colab.research.google.com/github/geocarvalho/rosalind/blob/master/rosalind.ipynb\" target=\"_parent\"><img src=\"https://colab.research.google.com/assets/colab-badge.svg\" alt=\"Open In Colab\"/></a>"
      ]
    },
    {
      "cell_type": "markdown",
      "metadata": {
        "id": "kFD4VNMyvf_v",
        "colab_type": "text"
      },
      "source": [
        "# Python village\n",
        "\n",
        "## 2. Variables and Some Arithmetic\n",
        "\n",
        "* Given: Two positive integers a and b, each less than 1000;\n",
        "* Return: The integer corresponding to the square of the hypotenuse of the right triangle whose legs have lengths a and b.\n",
        "\n",
        "Sample Dataset\n",
        "> 3 5\n",
        "\n",
        "Sample Output\n",
        "> 34"
      ]
    },
    {
      "cell_type": "code",
      "metadata": {
        "id": "N6LfDPeG0M2y",
        "colab_type": "code",
        "colab": {
          "base_uri": "https://localhost:8080/",
          "height": 34
        },
        "outputId": "ea4664cd-7635-4a62-88c9-e5a69b67af57"
      },
      "source": [
        "a = 3\n",
        "b = 5\n",
        "result = (a**2) + (b**2)\n",
        "result\n"
      ],
      "execution_count": 1,
      "outputs": [
        {
          "output_type": "execute_result",
          "data": {
            "text/plain": [
              "34"
            ]
          },
          "metadata": {
            "tags": []
          },
          "execution_count": 1
        }
      ]
    },
    {
      "cell_type": "code",
      "metadata": {
        "id": "uuqn0a5E0_T_",
        "colab_type": "code",
        "colab": {
          "base_uri": "https://localhost:8080/",
          "height": 34
        },
        "outputId": "528ef73c-2c47-4f22-cbcd-231fba8ac57d"
      },
      "source": [
        "a = 940\n",
        "b = 805\n",
        "result = (a**2) + (b**2)\n",
        "result\n"
      ],
      "execution_count": 2,
      "outputs": [
        {
          "output_type": "execute_result",
          "data": {
            "text/plain": [
              "1531625"
            ]
          },
          "metadata": {
            "tags": []
          },
          "execution_count": 2
        }
      ]
    },
    {
      "cell_type": "markdown",
      "metadata": {
        "id": "UHde-9cM1sdt",
        "colab_type": "text"
      },
      "source": [
        "## 3. Strings and Lists\n",
        "\n",
        "* Given: A string s of length at most 200 letters and four integers a, b, c and d.\n",
        "\n",
        "* Return: The slice of this string from indices a through b and c through d (with space in between), inclusively. In other words, we should include elements s[b] and s[d] in our slice.\n",
        "\n",
        "Sample Dataset\n",
        "> HumptyDumptysatonawallHumptyDumptyhadagreatfallAlltheKingshorsesandalltheKingsmenCouldntputHumptyDumptyinhisplaceagain.\n",
        "\n",
        "> 22 27 97 102\n",
        "\n",
        "Sample Output\n",
        "> Humpty Dumpty"
      ]
    },
    {
      "cell_type": "code",
      "metadata": {
        "id": "6WqHcVwl140q",
        "colab_type": "code",
        "colab": {
          "base_uri": "https://localhost:8080/",
          "height": 34
        },
        "outputId": "da2eadb9-2979-4bce-f32f-b53778702ff9"
      },
      "source": [
        "words = \"HumptyDumptysatonawallHumptyDumptyhadagreatfallAlltheKingshorsesandalltheKingsmenCouldntputHumptyDumptyinhisplaceagain.\"\n",
        "start1 = 22\n",
        "end1 = 27\n",
        "start2 = 97\n",
        "end2 = 102\n",
        "\n",
        "print(f'{words[start1:end1+1]} {words[start2:end2+1]}')"
      ],
      "execution_count": 4,
      "outputs": [
        {
          "output_type": "stream",
          "text": [
            "Humpty Dumpty\n"
          ],
          "name": "stdout"
        }
      ]
    },
    {
      "cell_type": "code",
      "metadata": {
        "id": "f8oOZFMQ2iuA",
        "colab_type": "code",
        "colab": {
          "base_uri": "https://localhost:8080/",
          "height": 34
        },
        "outputId": "9b5ed6e1-cddb-41e4-a7ef-f973f583aea6"
      },
      "source": [
        "words = \"Opw5EZtkP4r8QH9KFHmbsntrtdhGlScOOCamptolomaXYYdbSjXKDJgx9RNS4rHe6HDFRoaJhoJJMpBQE87wQrEJNauratusHmdGs69XIgtOfUcWotLPq0Oga1h432MGoOfMqmEhWWZ8YkVDW5mkp1C1UeNDgSApPxavZDdVkieW1SDqSUhmV73kWt.\"\n",
        "start1 = 33\n",
        "end1 = 42\n",
        "start2 = 89\n",
        "end2 = 95\n",
        "\n",
        "print(f'{words[start1:end1+1]} {words[start2:end2+1]}')"
      ],
      "execution_count": 5,
      "outputs": [
        {
          "output_type": "stream",
          "text": [
            "Camptoloma auratus\n"
          ],
          "name": "stdout"
        }
      ]
    },
    {
      "cell_type": "markdown",
      "metadata": {
        "id": "liu74Xfx29CG",
        "colab_type": "text"
      },
      "source": [
        "## 4. Conditions and Loops\n",
        "\n",
        "* Given: Two positive integers a and b (a<b<10000).\n",
        "\n",
        "* Return: The sum of all odd integers from a through b,inclusively.\n",
        "\n",
        "Sample Dataset\n",
        "> 100 200\n",
        "\n",
        "Sample Output\n",
        "> 7500"
      ]
    },
    {
      "cell_type": "code",
      "metadata": {
        "id": "eOqL8djc3Mrk",
        "colab_type": "code",
        "colab": {}
      },
      "source": [
        ""
      ],
      "execution_count": 0,
      "outputs": []
    },
    {
      "cell_type": "markdown",
      "metadata": {
        "id": "1lCzkpFAA3dr",
        "colab_type": "text"
      },
      "source": [
        "# Bioinformatics Stronghold\n",
        "\n",
        "## 1. Counting DNA nucleotides\n",
        "\n",
        "* [Problem](http://rosalind.info/problems/dna/)\n",
        "* [First script](https://github.com/geocarvalho/rosalind/blob/master/counting_dna_nucleotides.py)\n",
        "\n",
        "Sample Dataset\n",
        "> AGCTTTTCATTCTGACTGCAACGGGCAATATGTCTCTGTGTGGATTAAAAAAAGAGTGTCTGATAGCAGC\n",
        "\n",
        "Sample Output\n",
        "> 20 12 17 21"
      ]
    },
    {
      "cell_type": "code",
      "metadata": {
        "id": "ygpYDASyAetU",
        "colab_type": "code",
        "colab": {}
      },
      "source": [
        "def countNucFreq(seq):\n",
        "  tmpFreqDict = {\"A\":0, \"C\":0, \"G\":0, \"T\":0}\n",
        "  for nuc in seq:\n",
        "    tmpFreqDict[nuc] += 1\n",
        "  lst_num = [str(val)for val in list(tmpFreqDict.values())]\n",
        "  output = ' '.join(lst_num)\n",
        "  return output"
      ],
      "execution_count": 0,
      "outputs": []
    },
    {
      "cell_type": "code",
      "metadata": {
        "id": "ggYsWEjNIOst",
        "colab_type": "code",
        "outputId": "e3201690-e5be-4a5e-fd7e-0cee6a16ab9c",
        "colab": {
          "base_uri": "https://localhost:8080/",
          "height": 34
        }
      },
      "source": [
        "DNAstr = \"AGCTTTTCATTCTGACTGCAACGGGCAATATGTCTCTGTGTGGATTAAAAAAAGAGTGTCTGATAGCAGC\"\n",
        "countNucFreq(DNAstr)"
      ],
      "execution_count": 0,
      "outputs": [
        {
          "output_type": "execute_result",
          "data": {
            "text/plain": [
              "'20 12 17 21'"
            ]
          },
          "metadata": {
            "tags": []
          },
          "execution_count": 31
        }
      ]
    },
    {
      "cell_type": "code",
      "metadata": {
        "id": "AtAoTL4hIdUT",
        "colab_type": "code",
        "outputId": "62fcb021-962d-4b2f-d35e-d950007443cf",
        "colab": {
          "base_uri": "https://localhost:8080/",
          "height": 34
        }
      },
      "source": [
        "given_example = \"TAGACGATTCCTTCATTATGTGCTATAAGCTAAACCGTGTCCACGGATGGACAGGGCTCTGTTTTTGCTTCTTTGCAATACGCTTCGAGTGGTTGGCTCAATCCTATCTAATCGTGGACTGAATTTGTGAGCGGGTTTAAGCGCTCTTCGTCGGGCGTCCGGTACGGAGAGGGAACTCTAACCTGCCCTAAGGCGAAAAATACTGCATTAGCTATCCACAAGGATCGGTGGCGGCCCCTGAGGTCGCCGTCAGCCGCTCTCACATTCAGAGAATGCGGCCCGTACATTCAATAAGCGCTGTCACTGTAATCGCGGGCGCGCCCTAGGTAGCCACTTGGGCCTTTAATTACGAAGTCAAGCCTAACCGATGGCGACAGGCTTGGGGGGGGCATATTCACGCAGAACCCCAACATGAGTTGAACCCGACGGAGACACAAGCAGGAGCAGCCCATGGGTCGGTTGATTATTAGGTACCTTAATGTGAGGGGTTTATAACAAGGAATTAGAAGAATACTGTTCAAAGCCATCGTGATGGGTAATCCTCGGTCACTGTTACCTCTTACTTTGTGATTTTGGATTCTCATAGATGGATGCTACACTTATAAGTGCTTATTTGGAGCGCCACTAACATAAGACCGATGCACAAGTGTACGAGCGCGACGCGCGGATAATATTGTCCCGCGGAATCATGAAACATCGGCGTAGCCCTAGGGCGTCTGCTCTGCAAAGCTACACTACAGTCAGCGTTCCCAAACTGGGGGGTCTACGAATTATATAGGAGGAAACCTGGACTGGTCAGTTTAAAGTGTAGACGGTGGGATTTCGGGCCCAAACGCTAGTAGAGTTACTAGAAATCCCCTTCAGTCCCACACGGGAGACAAACAGGTACAGTCGGTAACGGAATAG\"\n",
        "countNucFreq(given_example)"
      ],
      "execution_count": 0,
      "outputs": [
        {
          "output_type": "execute_result",
          "data": {
            "text/plain": [
              "'232 213 242 219'"
            ]
          },
          "metadata": {
            "tags": []
          },
          "execution_count": 35
        }
      ]
    },
    {
      "cell_type": "code",
      "metadata": {
        "id": "hXjkfSafKuaD",
        "colab_type": "code",
        "colab": {}
      },
      "source": [
        ""
      ],
      "execution_count": 0,
      "outputs": []
    }
  ]
}